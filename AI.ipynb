{
  "nbformat": 4,
  "nbformat_minor": 0,
  "metadata": {
    "colab": {
      "provenance": []
    },
    "kernelspec": {
      "name": "python3",
      "display_name": "Python 3"
    },
    "language_info": {
      "name": "python"
    }
  },
  "cells": [
    {
      "cell_type": "code",
      "source": [
        "import random\n",
        "\n",
        "# Define predefined responses for the chatbot\n",
        "responses = {\n",
        "    \"hi\": [\"Hello!\", \"Hi there!\", \"Hey!\"],\n",
        "    \"hello\": [\"Hello!\", \"Hi there!\", \"Hey!\"],\n",
        "    \"how are you\": [\"I'm good, thank you!\", \"I'm doing well, thanks for asking!\"],\n",
        "    \"what's your name\": [\"You can call me ChatBot.\", \"I'm just a simple chatbot!\"],\n",
        "    \"bye\": [\"Goodbye!\", \"Bye bye!\", \"See you later!\"]\n",
        "}\n",
        "\n",
        "# Function to generate responses based on user input\n",
        "def chatbot_response(user_input):\n",
        "    user_input = user_input.lower()  # Convert user input to lowercase for case insensitivity\n",
        "\n",
        "    # Check if user input matches any predefined responses\n",
        "    for key in responses:\n",
        "        if user_input in key:\n",
        "            return random.choice(responses[key])\n",
        "\n",
        "    # If no predefined response matches, return a default response\n",
        "    return \"I'm sorry, I don't understand that.\"\n",
        "\n",
        "# Define main function for interacting with the chatbot\n",
        "def main():\n",
        "    print(\"ChatBot: Hello! I'm ChatBot. How can I help you today?\")\n",
        "    while True:\n",
        "        user_input = input(\"You: \")\n",
        "        if user_input.lower() == 'bye':\n",
        "            print(\"ChatBot: Goodbye!\")\n",
        "            break\n",
        "        else:\n",
        "            response = chatbot_response(user_input)\n",
        "            print(\"ChatBot:\", response)\n",
        "\n",
        "if __name__ == \"__main__\":\n",
        "    main()\n"
      ],
      "metadata": {
        "colab": {
          "base_uri": "https://localhost:8080/"
        },
        "id": "uoQiPGQrhXvm",
        "outputId": "9c4ee2e8-f060-4286-c8e1-5c4b1effa490"
      },
      "execution_count": null,
      "outputs": [
        {
          "output_type": "stream",
          "name": "stdout",
          "text": [
            "ChatBot: Hello! I'm ChatBot. How can I help you today?\n",
            "You: hi\n",
            "ChatBot: Hi there!\n",
            "You: how are you\n",
            "ChatBot: I'm good, thank you!\n",
            "You: what can i call you\n",
            "ChatBot: I'm sorry, I don't understand that.\n",
            "You: what's your name\n",
            "ChatBot: I'm just a simple chatbot!\n",
            "You: bye\n",
            "ChatBot: Goodbye!\n"
          ]
        }
      ]
    }
  ]
}